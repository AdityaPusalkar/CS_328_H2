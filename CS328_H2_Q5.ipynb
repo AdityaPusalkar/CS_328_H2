{
  "nbformat": 4,
  "nbformat_minor": 0,
  "metadata": {
    "colab": {
      "name": "CS328_H2_Q5.ipynb",
      "provenance": [],
      "collapsed_sections": [],
      "toc_visible": true
    },
    "kernelspec": {
      "name": "python3",
      "display_name": "Python 3"
    },
    "language_info": {
      "name": "python"
    },
    "accelerator": "GPU"
  },
  "cells": [
    {
      "cell_type": "code",
      "metadata": {
        "colab": {
          "base_uri": "https://localhost:8080/"
        },
        "id": "xMikocOmq-Lw",
        "outputId": "478195b3-e4a8-4e72-aca8-f5d3c8b4f155"
      },
      "source": [
        "from urllib.request import urlretrieve\n",
        "import zipfile\n",
        "\n",
        "urlretrieve(\"http://files.grouplens.org/datasets/movielens/ml-100k.zip\", \"movielens.zip\")\n",
        "zip_ref = zipfile.ZipFile('movielens.zip', \"r\")\n",
        "zip_ref.extractall()\n",
        "print(\"Done. Dataset contains:\")\n",
        "print(zip_ref.read('ml-100k/u.info'))"
      ],
      "execution_count": null,
      "outputs": [
        {
          "output_type": "stream",
          "text": [
            "Done. Dataset contains:\n",
            "b'943 users\\n1682 items\\n100000 ratings\\n'\n"
          ],
          "name": "stdout"
        }
      ]
    },
    {
      "cell_type": "code",
      "metadata": {
        "id": "71QsRMEd2xIx"
      },
      "source": [
        "import numpy as np\n",
        "import pandas as pd\n",
        "import scipy.sparse as sp\n",
        "from scipy.sparse.linalg import svds\n",
        "from sklearn.model_selection import train_test_split\n",
        "\n",
        "column_names = ['user_id', 'item_id', 'rating', 'timestamp']\n",
        "train = pd.read_csv('ml-100k/u.data', sep='\\t', names = column_names)\n",
        "train.drop('timestamp', axis =1, inplace = True)\n",
        "\n",
        "n_users = train.user_id.nunique()\n",
        "n_movies = train.item_id.nunique()\n",
        "\n",
        "train_data, test_data = train_test_split(train, test_size=0.25)\n",
        "train_matrix = np.zeros((n_users, n_movies))\n",
        "for line in train_data.itertuples():\n",
        "  train_matrix[line[1]-1, line[2]-1] = line[3]  \n",
        "\n",
        "test_matrix = np.zeros((n_users, n_movies))\n",
        "for line in test_data.itertuples():\n",
        "  test_matrix[line[1]-1, line[2]-1] = line[3]\n",
        "\n",
        "errs = []\n",
        "for i in range(1,100):\n",
        "  U, S, V = svds(train_matrix, i)\n",
        "  k_rank = U @ np.diag(S) @ V\n",
        "  err = 0\n",
        "  for line in test_data.itertuples():\n",
        "    err += (test_matrix[line[1]-1][line[2]-1]-k_rank[line[1]-1][line[2]-1])**2\n",
        "  errs.append(err)"
      ],
      "execution_count": null,
      "outputs": []
    },
    {
      "cell_type": "code",
      "metadata": {
        "colab": {
          "base_uri": "https://localhost:8080/",
          "height": 295
        },
        "id": "xK0czIqFGgKO",
        "outputId": "9127c36c-a144-4389-f817-66e948a813a6"
      },
      "source": [
        "import matplotlib.pyplot as plt\n",
        "k = [j for j in range(1,100)]\n",
        "plt.plot(k, errs)\n",
        "  \n",
        "plt.xlabel('Rank k')\n",
        "plt.ylabel('RMSE Error')\n",
        "plt.title('Low Rank Aproximation')\n",
        "plt.show()"
      ],
      "execution_count": null,
      "outputs": [
        {
          "output_type": "display_data",
          "data": {
            "image/png": "[encoded data removed]",
            "text/plain": [
              "<Figure size 432x288 with 1 Axes>"
            ]
          },
          "metadata": {
            "tags": [],
            "needs_background": "light"
          }
        }
      ]
    },
    {
      "cell_type": "code",
      "metadata": {
        "id": "UtlHF4Q9IHYM"
      },
      "source": [
        "train_X = train_data[['user_id', 'item_id']]\n",
        "train_y = train_data[['rating']]\n",
        "train_X = np.array(train_X, dtype = \"float\")\n",
        "train_y = np.array(train_y, dtype = \"float\")\n",
        "test_X = test_data[['user_id', 'item_id']]\n",
        "test_y = test_data[['rating']]\n",
        "test_X = np.array(test_X, dtype = \"float\")\n",
        "test_y = np.array(test_y, dtype = \"float\")\n",
        "\n",
        "mui = np.zeros(n_users)\n",
        "etaj = np.zeros(n_movies)\n",
        "\n",
        "for i in range(n_users):\n",
        "  avg_r = 0 \n",
        "  count = 0\n",
        "  for j in range(n_movies):\n",
        "    if(train_matrix[i,j]!=0):\n",
        "      avg_r += train_matrix[i,j]\n",
        "      count+=1\n",
        "  if(count!=0):\n",
        "    mui[i-1] = avg_r/count\n",
        "\n",
        "for i in range(n_movies):\n",
        "  avg_r = 0 \n",
        "  count = 0\n",
        "  for j in range(n_users):\n",
        "    if(train_matrix[j,i]!=0):\n",
        "      avg_r += train_matrix[j,i]\n",
        "      count+=1\n",
        "  if(count!=0):\n",
        "    etaj[i-1] = avg_r/count\n",
        "\n",
        "for i in range(len(train_X)):\n",
        "  train_X[i][0] = mui[int(train_X[i][0])-1]\n",
        "  train_X[i][1] = etaj[int(train_X[i][1])-1]\n",
        "\n",
        "for i in range(len(test_X)):\n",
        "  test_X[i][0] = mui[int(test_X[i][0])-1]\n",
        "  test_X[i][1] = etaj[int(test_X[i][1])-1]"
      ],
      "execution_count": null,
      "outputs": []
    },
    {
      "cell_type": "code",
      "metadata": {
        "colab": {
          "base_uri": "https://localhost:8080/"
        },
        "id": "ejJMaQsgSaTC",
        "outputId": "d6dd19ae-06f1-4ac0-eeff-3f5b78ad36c1"
      },
      "source": [
        "from sklearn.linear_model import LinearRegression\n",
        "\n",
        "LR = LinearRegression().fit(train_X, train_y)\n",
        "print(LR.coef_) # a and b\n",
        "\n",
        "y_hat = LR.predict(test_X)\n",
        "\n",
        "err = 0\n",
        "for i in range(len(test_y)):\n",
        "  err += (test_y[i]-y_hat[i])**2\n",
        "\n",
        "print(err)\n"
      ],
      "execution_count": null,
      "outputs": [
        {
          "output_type": "stream",
          "text": [
            "[[0.0057033  0.29120186]]\n",
            "[30724.3079183]\n"
          ],
          "name": "stdout"
        }
      ]
    }
  ]
}