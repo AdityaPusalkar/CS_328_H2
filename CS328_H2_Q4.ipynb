{
  "nbformat": 4,
  "nbformat_minor": 0,
  "metadata": {
    "colab": {
      "name": "CS328_H2_Q4.ipynb",
      "provenance": [],
      "collapsed_sections": []
    },
    "kernelspec": {
      "name": "python3",
      "display_name": "Python 3"
    },
    "language_info": {
      "name": "python"
    },
    "accelerator": "GPU"
  },
  "cells": [
    {
      "cell_type": "code",
      "metadata": {
        "colab": {
          "base_uri": "https://localhost:8080/"
        },
        "id": "1gUl3yOkT5KU",
        "outputId": "39cbfa6c-3933-4758-9f05-ffe60604e7eb"
      },
      "source": [
        "from urllib.request import urlretrieve\n",
        "import zipfile\n",
        "\n",
        "urlretrieve(\"http://qwone.com/~jason/20Newsgroups/20news-bydate-matlab.tgz\", \"data.tgz\")\n",
        "\n",
        "!tar -xzvf data.tgz\n",
        "!mv /content/20news-bydate/matlab/train.data /content/"
      ],
      "execution_count": null,
      "outputs": [
        {
          "output_type": "stream",
          "text": [
            "20news-bydate/matlab/\n",
            "20news-bydate/matlab/train.data\n",
            "20news-bydate/matlab/train.label\n",
            "20news-bydate/matlab/train.map\n",
            "20news-bydate/matlab/test.data\n",
            "20news-bydate/matlab/test.label\n",
            "20news-bydate/matlab/test.map\n"
          ],
          "name": "stdout"
        }
      ]
    },
    {
      "cell_type": "code",
      "metadata": {
        "id": "rJuZuJHGemZp"
      },
      "source": [
        "import random\n",
        "import sys\n",
        "from operator import itemgetter"
      ],
      "execution_count": null,
      "outputs": []
    },
    {
      "cell_type": "code",
      "metadata": {
        "id": "vFhVZGKJenQL"
      },
      "source": [
        "f = open(\"train.data\",\"r\")\n",
        "input = f.readlines()\n",
        "for i in range(len(input)):\n",
        "  input[i] = list(map(int,input[i].split()[1:]))"
      ],
      "execution_count": null,
      "outputs": []
    },
    {
      "cell_type": "code",
      "metadata": {
        "id": "2tEA59pFfer5"
      },
      "source": [
        "class HashFunction:\n",
        "  def __init__(self, a, p, d, b=None, f=None, h=None):\n",
        "    self.a = a\n",
        "    self.p = p\n",
        "    self.d = d\n",
        "    self.b = b\n",
        "    self.f = f\n",
        "    self.h = h\n",
        "  def getHash(self,x):\n",
        "    return ((self.a*x+self.b)%self.p)%d\n",
        "  def hashG(self,x):\n",
        "    sign = ((self.f*x+self.h)%self.p)%2\n",
        "    return sign if sign>0 else -1"
      ],
      "execution_count": null,
      "outputs": []
    },
    {
      "cell_type": "code",
      "metadata": {
        "id": "Cv1SQhg6hxpy"
      },
      "source": [
        "k = [100, 200, 500, 1000, 2000, 30000, 100000]\n",
        "w = 5 # Number of Hash Functions"
      ],
      "execution_count": null,
      "outputs": []
    },
    {
      "cell_type": "code",
      "metadata": {
        "colab": {
          "base_uri": "https://localhost:8080/"
        },
        "id": "QEBG3zqLh2MU",
        "outputId": "966f927f-f195-4d95-8ddf-4477fdf2293d"
      },
      "source": [
        "# Count Min Sketch\n",
        "CMS_errors = []\n",
        "def query(Count_Min,q):\n",
        "  min_count = sys.maxsize\n",
        "  for i in range(w):\n",
        "    min_count = min(min_count,Count_Min[i][hashes[i].getHash(q)])\n",
        "  return min_count\n",
        "\n",
        "p = 2**31-1\n",
        "for ki in k:\n",
        "  hashes = []\n",
        "  d = ki//w\n",
        "  for i in range(w):\n",
        "    hashes.append(HashFunction(random.randint(1,p-1), p, d, b=random.randint(1,p-1)))\n",
        "  Count_Min = [[0 for i in range(d)] for j in range(w)]\n",
        "  total_len = len(input)\n",
        "  cnt = 0\n",
        "  for word in input:\n",
        "    cnt+=1\n",
        "    if cnt%10000==0:\n",
        "      print(f\"\\rProgress for k = {ki}: \"+str(cnt*100/total_len)[:5]+\"%\",end=\"\")\n",
        "    for j in range(w):\n",
        "      Count_Min[j][hashes[j].getHash(word[0])]+=word[1]\n",
        "  print()\n",
        "\n",
        "  vocab = {} # Vocab length is 53975\n",
        "  for word in input:\n",
        "    if word[0] not in vocab:\n",
        "      vocab[word[0]]=word[1]\n",
        "    else:\n",
        "      vocab[word[0]]+=word[1]\n",
        "\n",
        "  listOfWords = []\n",
        "  for word in vocab.keys():\n",
        "    listOfWords.append([word,vocab[word]])\n",
        "\n",
        "  listOfWords.sort(key=itemgetter(1),reverse=True)\n",
        "  TopWords = listOfWords[:1000]\n",
        "  Top100 = random.sample(TopWords, 100)\n",
        "  err = 0\n",
        "  for i in Top100:\n",
        "    err+=abs(i[1]-query(Count_Min,i[0]))/i[1]\n",
        "  CMS_errors.append(err)\n",
        "  print(f\"Error for k = {ki}:\",err)"
      ],
      "execution_count": null,
      "outputs": [
        {
          "output_type": "stream",
          "text": [
            "Progress for k = 100: 99.49%\n",
            "Error for k = 100: 15521.47732956976\n",
            "Progress for k = 200: 99.49%\n",
            "Error for k = 200: 7277.378549804717\n",
            "Progress for k = 500: 99.49%\n",
            "Error for k = 500: 2248.442250727611\n",
            "Progress for k = 1000: 99.49%\n",
            "Error for k = 1000: 995.8700195204055\n",
            "Progress for k = 2000: 99.49%\n",
            "Error for k = 2000: 446.39310188499513\n",
            "Progress for k = 30000: 99.49%\n",
            "Error for k = 30000: 7.252695062399013\n",
            "Progress for k = 100000: 99.49%\n",
            "Error for k = 100000: 0.6895404352839045\n"
          ],
          "name": "stdout"
        }
      ]
    },
    {
      "cell_type": "markdown",
      "metadata": {
        "id": "XjDFEY018OP2"
      },
      "source": [
        "Count Min Sketch gets an error of less than 1% for k>100000.\n"
      ]
    },
    {
      "cell_type": "code",
      "metadata": {
        "colab": {
          "base_uri": "https://localhost:8080/"
        },
        "id": "zQZ9oCmlpqn-",
        "outputId": "b372d828-58a3-46db-ee2f-b9450e14cfd6"
      },
      "source": [
        "# Count Sketch\n",
        "CS_errors = []\n",
        "def query(Count_Min,q):\n",
        "  counts = []\n",
        "  for i in range(w):\n",
        "    counts.append(Count_S[i][hashes[i].getHash(q)]*hashes[i].hashG(q))\n",
        "  counts.sort()\n",
        "  return counts[2]\n",
        "\n",
        "p = 2**31-1\n",
        "for ki in k:\n",
        "  hashes = []\n",
        "  d = ki//w\n",
        "  for i in range(w):\n",
        "    hashes.append(HashFunction(random.randint(1,p-1), p, d, b=random.randint(1,p-1), f=random.randint(1,p-1), h=random.randint(1,p-1)))\n",
        "  Count_S = [[0 for i in range(d)] for j in range(w)]\n",
        "  total_len = len(input)\n",
        "  cnt = 0\n",
        "  for word in input:\n",
        "    cnt+=1\n",
        "    if cnt%10000==0:\n",
        "      print(f\"\\rProgress for k = {ki}: \"+str(cnt*100/total_len)[:5]+\"%\",end=\"\")\n",
        "    for j in range(w):\n",
        "      Count_S[j][hashes[j].getHash(word[0])]+=(word[1]*hashes[j].hashG(word[0]))\n",
        "  print()\n",
        "\n",
        "  vocab = {} # Vocab length is 53975\n",
        "  for word in input:\n",
        "    if word[0] not in vocab:\n",
        "      vocab[word[0]]=word[1]\n",
        "    else:\n",
        "      vocab[word[0]]+=word[1]\n",
        "\n",
        "  listOfWords = []\n",
        "  for word in vocab.keys():\n",
        "    listOfWords.append([word,vocab[word]])\n",
        "\n",
        "  listOfWords.sort(key=itemgetter(1),reverse=True)\n",
        "  TopWords = listOfWords[:1000]\n",
        "  Top100 = random.sample(TopWords, 100)\n",
        "  err = 0\n",
        "  for i in Top100:\n",
        "    err+=abs(i[1]-query(Count_S,i[0]))/i[1]\n",
        "  CS_errors.append(err)\n",
        "  print(f\"Error for k = {ki}:\",err)"
      ],
      "execution_count": null,
      "outputs": [
        {
          "output_type": "stream",
          "text": [
            "Progress for k = 100: 99.49%\n",
            "Error for k = 100: 2336.7687794322005\n",
            "Progress for k = 200: 99.49%\n",
            "Error for k = 200: 894.6498528090423\n",
            "Progress for k = 500: 99.49%\n",
            "Error for k = 500: 456.68338724095975\n",
            "Progress for k = 1000: 99.49%\n",
            "Error for k = 1000: 235.2301261395869\n",
            "Progress for k = 2000: 99.49%\n",
            "Error for k = 2000: 165.16181427971085\n",
            "Progress for k = 30000: 99.49%\n",
            "Error for k = 30000: 5.217860245533762\n",
            "Progress for k = 100000: 99.49%\n",
            "Error for k = 100000: 0.8332586516842623\n"
          ],
          "name": "stdout"
        }
      ]
    },
    {
      "cell_type": "markdown",
      "metadata": {
        "id": "-HStewLU8KwQ"
      },
      "source": [
        "Count Sketch gets an error of less than 1% for k>100000.\n"
      ]
    },
    {
      "cell_type": "code",
      "metadata": {
        "colab": {
          "base_uri": "https://localhost:8080/"
        },
        "id": "uzaO13HGrc93",
        "outputId": "83c24adb-f0d5-4b37-f6e2-e556d28dca78"
      },
      "source": [
        "# Misra Gries\n",
        "MG_errors = []\n",
        "for ki in k:\n",
        "  Counters = {}\n",
        "  nums = 0\n",
        "  for i in input:\n",
        "    if i[0] in Counters:\n",
        "      Counters[i[0]] += i[1]\n",
        "    elif nums<ki:\n",
        "      Counters[i[0]] = i[1]\n",
        "      nums+=1\n",
        "    else:\n",
        "      min_count = sys.maxsize\n",
        "      nums_init = nums\n",
        "      keys = list(Counters.keys())\n",
        "      for j in keys:\n",
        "        if Counters[j]<=i[1]:\n",
        "          min_count = min(min_count,Counters[j])\n",
        "      for j in keys:\n",
        "        if Counters[j]==min_count:\n",
        "          Counters.pop(j)\n",
        "          nums-=1\n",
        "      for j in Counters.keys():\n",
        "        Counters[j]-=min_count\n",
        "      if nums_init==nums:\n",
        "        pass\n",
        "      else:\n",
        "        Counters[i[0]] = i[1]-min_count\n",
        "        nums+=1\n",
        "\n",
        "  listOfWords = []\n",
        "  for word in vocab.keys():\n",
        "    listOfWords.append([word,vocab[word]])\n",
        "\n",
        "  listOfWords.sort(key=itemgetter(1),reverse=True)\n",
        "  TopWords = listOfWords[:1000]\n",
        "  Top100 = random.sample(TopWords, 100)\n",
        "  err = 0\n",
        "  for i in Top100:\n",
        "      if i[0] in Counters:\n",
        "          err+=abs(i[1]-Counters[i[0]])/i[1]\n",
        "      else:\n",
        "          err+=1\n",
        "  MG_errors.append(err)\n",
        "  print(f\"Error for k = {ki}:\",err)"
      ],
      "execution_count": null,
      "outputs": [
        {
          "output_type": "stream",
          "text": [
            "Error for k = 100: 99.5003929113868\n",
            "Error for k = 200: 98.8622646646073\n",
            "Error for k = 500: 95.48775438473308\n",
            "Error for k = 1000: 89.35082546639964\n",
            "Error for k = 2000: 70.67960646058553\n",
            "Error for k = 30000: 1.0946257391529732\n",
            "Error for k = 100000: 0.0\n"
          ],
          "name": "stdout"
        }
      ]
    },
    {
      "cell_type": "markdown",
      "metadata": {
        "id": "UKsgDfjl7-RN"
      },
      "source": [
        "Misra Gries Sketch gets an error of less than 1% for k>30000.\n",
        "\n",
        "\n"
      ]
    },
    {
      "cell_type": "code",
      "metadata": {
        "colab": {
          "base_uri": "https://localhost:8080/"
        },
        "id": "vlwm2OUIYRi6",
        "outputId": "2d6670b6-094c-4c96-ca14-8e2bb2146b47"
      },
      "source": [
        "print(CMS_errors)\n",
        "print(CS_errors)\n",
        "print(MG_errors)"
      ],
      "execution_count": null,
      "outputs": [
        {
          "output_type": "stream",
          "text": [
            "[15521.47732956976, 7277.378549804717, 2248.442250727611, 995.8700195204055, 446.39310188499513, 7.252695062399013, 0.6895404352839045]\n",
            "[2336.7687794322005, 894.6498528090423, 456.68338724095975, 235.2301261395869, 165.16181427971085, 5.217860245533762, 0.8332586516842623]\n",
            "[99.5003929113868, 98.8622646646073, 95.48775438473308, 89.35082546639964, 70.67960646058553, 1.0946257391529732, 0.0]\n"
          ],
          "name": "stdout"
        }
      ]
    },
    {
      "cell_type": "code",
      "metadata": {
        "colab": {
          "base_uri": "https://localhost:8080/",
          "height": 851
        },
        "id": "OpeEb6YmZL04",
        "outputId": "5b7b03fe-63e8-4491-a88d-372ad1d96a5c"
      },
      "source": [
        "import matplotlib.pyplot as plt\n",
        "plt.plot(k, CMS_errors)\n",
        "plt.xlabel('K')\n",
        "plt.ylabel('Relative Error')\n",
        "plt.title('Count Min Sketch')\n",
        "plt.show()\n",
        "\n",
        "plt.plot(k, CS_errors)\n",
        "plt.xlabel('K')\n",
        "plt.ylabel('Relative Error')\n",
        "plt.title('Count Sketch')\n",
        "plt.show()\n",
        "\n",
        "plt.plot(k, MG_errors) \n",
        "plt.xlabel('K')\n",
        "plt.ylabel('Relative Error')\n",
        "plt.title('Misra Gries')\n",
        "plt.show()"
      ],
      "execution_count": null,
      "outputs": [
        {
          "output_type": "display_data",
          "data": {
            "image/png": "[encoded data removed]",
            "text/plain": [
              "<Figure size 432x288 with 1 Axes>"
            ]
          },
          "metadata": {
            "tags": [],
            "needs_background": "light"
          }
        },
        {
          "output_type": "display_data",
          "data": {
            "image/png": "[encoded data removed]",
            "text/plain": [
              "<Figure size 432x288 with 1 Axes>"
            ]
          },
          "metadata": {
            "tags": [],
            "needs_background": "light"
          }
        },
        {
          "output_type": "display_data",
          "data": {
            "image/png": "[encoded data removed]",
            "text/plain": [
              "<Figure size 432x288 with 1 Axes>"
            ]
          },
          "metadata": {
            "tags": [],
            "needs_background": "light"
          }
        }
      ]
    }
  ]
}